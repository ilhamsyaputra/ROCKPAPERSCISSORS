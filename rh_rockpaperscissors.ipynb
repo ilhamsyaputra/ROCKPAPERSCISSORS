{
  "nbformat": 4,
  "nbformat_minor": 0,
  "metadata": {
    "accelerator": "GPU",
    "colab": {
      "name": "rh-rockpaperscissors.ipynb",
      "provenance": [],
      "collapsed_sections": []
    },
    "kernelspec": {
      "display_name": "Python 3",
      "language": "python",
      "name": "python3"
    },
    "language_info": {
      "codemirror_mode": {
        "name": "ipython",
        "version": 3
      },
      "file_extension": ".py",
      "mimetype": "text/x-python",
      "name": "python",
      "nbconvert_exporter": "python",
      "pygments_lexer": "ipython3",
      "version": "3.8.5"
    }
  },
  "cells": [
    {
      "cell_type": "markdown",
      "metadata": {
        "id": "n6k6fFjcWaRg"
      },
      "source": [
        "# **Fetch Kaggle Dataset to Colab**\n",
        "Dataset source: https://www.kaggle.com/sanikamal/rock-paper-scissors-dataset"
      ]
    },
    {
      "cell_type": "code",
      "metadata": {
        "id": "Bp2TJrXts4JT"
      },
      "source": [
        "from google.colab import files\n",
        "files.upload()"
      ],
      "execution_count": null,
      "outputs": []
    },
    {
      "cell_type": "code",
      "metadata": {
        "id": "M6ZkWlaNtoK9"
      },
      "source": [
        "! pip install -q kaggle"
      ],
      "execution_count": null,
      "outputs": []
    },
    {
      "cell_type": "code",
      "metadata": {
        "colab": {
          "base_uri": "https://localhost:8080/",
          "height": 35
        },
        "id": "eJTS3-rntqr7",
        "outputId": "384830d9-4d36-44d2-acc2-96bcaf7b8cbf"
      },
      "source": [
        "pwd"
      ],
      "execution_count": null,
      "outputs": [
        {
          "output_type": "execute_result",
          "data": {
            "application/vnd.google.colaboratory.intrinsic+json": {
              "type": "string"
            },
            "text/plain": [
              "'/content'"
            ]
          },
          "metadata": {
            "tags": []
          },
          "execution_count": 3
        }
      ]
    },
    {
      "cell_type": "code",
      "metadata": {
        "colab": {
          "base_uri": "https://localhost:8080/"
        },
        "id": "bEFRmBjatsJQ",
        "outputId": "5c2eb59e-40fd-476d-ba02-56aeb646b00a"
      },
      "source": [
        "cd /content/drive/MyDrive/belajar-ml"
      ],
      "execution_count": null,
      "outputs": [
        {
          "output_type": "stream",
          "text": [
            "/content/drive/MyDrive/belajar-ml\n"
          ],
          "name": "stdout"
        }
      ]
    },
    {
      "cell_type": "code",
      "metadata": {
        "id": "s1K9Jl_0uBTG"
      },
      "source": [
        "import os\n",
        "os.environ['KAGGLE_CONFIG_DIR'] = '/content/drive/MyDrive/belajar-ml/'"
      ],
      "execution_count": null,
      "outputs": []
    },
    {
      "cell_type": "code",
      "metadata": {
        "colab": {
          "base_uri": "https://localhost:8080/"
        },
        "id": "EPQWlM2AuJRl",
        "outputId": "7d6ee1da-aad6-4d1e-971f-782b161406f8"
      },
      "source": [
        "! kaggle datasets download -d sanikamal/rock-paper-scissors-dataset"
      ],
      "execution_count": null,
      "outputs": [
        {
          "output_type": "stream",
          "text": [
            "Downloading rock-paper-scissors-dataset.zip to /content/drive/MyDrive/belajar-ml\n",
            " 98% 443M/452M [00:02<00:00, 180MB/s]\n",
            "100% 452M/452M [00:02<00:00, 164MB/s]\n"
          ],
          "name": "stdout"
        }
      ]
    },
    {
      "cell_type": "code",
      "metadata": {
        "id": "IgzTKz_zuUkO"
      },
      "source": [
        "!unzip \\*.zip  && rm *.zip"
      ],
      "execution_count": null,
      "outputs": []
    },
    {
      "cell_type": "markdown",
      "metadata": {
        "id": "TAgyPg4_TpwT"
      },
      "source": [
        "# **Mulai Pengerjaan**"
      ]
    },
    {
      "cell_type": "code",
      "metadata": {
        "id": "OKsABfOCyl6V"
      },
      "source": [
        "# import libraries\n",
        "import numpy as np\n",
        "import matplotlib.image as mpimg\n",
        "import tensorflow as tf\n",
        "\n",
        "from tensorflow.keras.preprocessing.image import ImageDataGenerator\n",
        "from keras.preprocessing import image"
      ],
      "execution_count": null,
      "outputs": []
    },
    {
      "cell_type": "code",
      "metadata": {
        "id": "LjdtoncNu1hb"
      },
      "source": [
        "import os\n",
        "\n",
        "train_dir = '/content/drive/MyDrive/belajar-ml/Rock-Paper-Scissors/train'\n",
        "test_dir = '/content/drive/MyDrive/belajar-ml/Rock-Paper-Scissors/test'\n",
        "validation_dir = '/content/drive/MyDrive/belajar-ml/Rock-Paper-Scissors/validation'\n",
        "\n",
        "\n",
        "train = os.listdir(train_dir)\n",
        "test = os.listdir(test_dir)\n",
        "val = os.listdir(validation_dir)\n",
        "\n",
        "n_train = {}\n",
        "n_test = {}\n",
        "n_val = len(os.listdir(validation_dir))\n",
        "\n",
        "total_train, total_test = 0, 0\n",
        "\n",
        "for i in train:\n",
        "  n_train[i] = len(os.listdir(os.path.join(train_dir, i)))\n",
        "  total_train = total_train + len(os.listdir(os.path.join(train_dir, i)))\n",
        "\n",
        "for i in test:\n",
        "  n_test[i] = len(os.listdir(os.path.join(test_dir, i)))\n",
        "  total_test = total_test + len(os.listdir(os.path.join(test_dir, i)))\n",
        "\n"
      ],
      "execution_count": null,
      "outputs": []
    },
    {
      "cell_type": "code",
      "metadata": {
        "colab": {
          "base_uri": "https://localhost:8080/",
          "height": 624
        },
        "id": "YSIdqEGKw_YT",
        "outputId": "4d88e5fc-68aa-424c-f9f0-73f91616b2a4"
      },
      "source": [
        "import matplotlib.pyplot as plt\n",
        "\n",
        "train_keys = list(n_train.keys())\n",
        "train_value = list(n_train.values())\n",
        "\n",
        "test_keys = list(n_test.keys())\n",
        "test_value = list(n_test.values())\n",
        "\n",
        "plt.figure(figsize=(8,4))\n",
        "plt.bar(train_keys, train_value)\n",
        "plt.title('Train Distribution')\n",
        "plt.ylabel('Count')\n",
        "plt.xlabel('Label')\n",
        "\n",
        "plt.figure(figsize=(8,4))\n",
        "plt.bar(test_keys, test_value)\n",
        "plt.title('Test Distribution')\n",
        "plt.ylabel('Count')\n",
        "plt.xlabel('Label')\n",
        "\n",
        "print('Total Train:', total_train)\n",
        "print('Total Test:', total_test)\n",
        "print('Validation:', n_val)"
      ],
      "execution_count": null,
      "outputs": [
        {
          "output_type": "stream",
          "text": [
            "Total Train: 2520\n",
            "Total Test: 372\n",
            "Validation: 33\n"
          ],
          "name": "stdout"
        },
        {
          "output_type": "display_data",
          "data": {
            "image/png": "[encoded data removed]",
            "text/plain": [
              "<Figure size 576x288 with 1 Axes>"
            ]
          },
          "metadata": {
            "tags": [],
            "needs_background": "light"
          }
        },
        {
          "output_type": "display_data",
          "data": {
            "image/png": "[encoded data removed]",
            "text/plain": [
              "<Figure size 576x288 with 1 Axes>"
            ]
          },
          "metadata": {
            "tags": [],
            "needs_background": "light"
          }
        }
      ]
    },
    {
      "cell_type": "code",
      "metadata": {
        "colab": {
          "base_uri": "https://localhost:8080/",
          "height": 35
        },
        "id": "kGeYg_8pyt8B",
        "outputId": "a9b6813a-dd2d-4e9f-e827-63fa2c4477a4"
      },
      "source": [
        "pwd"
      ],
      "execution_count": null,
      "outputs": [
        {
          "output_type": "execute_result",
          "data": {
            "application/vnd.google.colaboratory.intrinsic+json": {
              "type": "string"
            },
            "text/plain": [
              "'/content/drive/My Drive/belajar-ml'"
            ]
          },
          "metadata": {
            "tags": []
          },
          "execution_count": 16
        }
      ]
    },
    {
      "cell_type": "code",
      "metadata": {
        "colab": {
          "base_uri": "https://localhost:8080/"
        },
        "id": "tMaQgVZ2bmbO",
        "outputId": "45311a15-92a6-43a6-f69e-3510ec841319"
      },
      "source": [
        "cd /content/drive/My Drive/belajar-ml/Rock-Paper-Scissors"
      ],
      "execution_count": null,
      "outputs": [
        {
          "output_type": "stream",
          "text": [
            "/content/drive/My Drive/belajar-ml/Rock-Paper-Scissors\n"
          ],
          "name": "stdout"
        }
      ]
    },
    {
      "cell_type": "code",
      "metadata": {
        "id": "rn89735Bbr-H"
      },
      "source": [
        "! cp -R validation val"
      ],
      "execution_count": null,
      "outputs": []
    },
    {
      "cell_type": "code",
      "metadata": {
        "colab": {
          "base_uri": "https://localhost:8080/"
        },
        "id": "UDuqHRXCb2En",
        "outputId": "339a0ef7-f106-47ff-c095-8ec58f5e36a7"
      },
      "source": [
        "cd val"
      ],
      "execution_count": null,
      "outputs": [
        {
          "output_type": "stream",
          "text": [
            "/content/drive/My Drive/belajar-ml/Rock-Paper-Scissors/val\n"
          ],
          "name": "stdout"
        }
      ]
    },
    {
      "cell_type": "code",
      "metadata": {
        "id": "PR1xx4jRb38w"
      },
      "source": [
        "! mkdir paper rock scissors"
      ],
      "execution_count": null,
      "outputs": []
    },
    {
      "cell_type": "code",
      "metadata": {
        "colab": {
          "base_uri": "https://localhost:8080/"
        },
        "id": "Lerep9k4yw4I",
        "outputId": "d2269ffe-66d9-4667-af40-ba8db97b5a82"
      },
      "source": [
        "batch_size = 32\n",
        "\n",
        "# augmentasi gambar\n",
        "train_datagen = ImageDataGenerator(rescale=1./255,\n",
        "                                   rotation_range=90,\n",
        "                                   horizontal_flip=True,\n",
        "                                   width_shift_range=0.2,\n",
        "                                   height_shift_range=0.2,\n",
        "                                   shear_range=0.2,\n",
        "                                   zoom_range=0.2,\n",
        "                                   fill_mode='nearest')\n",
        "\n",
        "test_datagen = ImageDataGenerator(rescale=1./255,\n",
        "                                  rotation_range=90)\n",
        "\n",
        "val_datagen = ImageDataGenerator(rescale=1./255)\n",
        "\n",
        "\n",
        "# menyiapkan data latih\n",
        "train_generator = train_datagen.flow_from_directory(train_dir,\n",
        "                                                    target_size=(150, 150),\n",
        "                                                    batch_size=batch_size,\n",
        "                                                    class_mode='categorical')\n",
        "\n",
        "validation_generator = val_datagen.flow_from_directory(validation_dir,\n",
        "                                                       target_size=(150, 150),\n",
        "                                                       batch_size=batch_size,\n",
        "                                                       class_mode='categorical')\n",
        "\n",
        "val_generator = val_datagen.flow_from_directory('/content/drive/MyDrive/belajar-ml/Rock-Paper-Scissors/val',\n",
        "                                                target_size=(150, 150),\n",
        "                                                batch_size=batch_size,\n",
        "                                                shuffle=False,\n",
        "                                                class_mode='categorical')\n",
        "\n",
        "test_generator = test_datagen.flow_from_directory(test_dir,\n",
        "                                                  target_size=(150, 150),\n",
        "                                                  batch_size=batch_size,\n",
        "                                                  class_mode='categorical')"
      ],
      "execution_count": null,
      "outputs": [
        {
          "output_type": "stream",
          "text": [
            "Found 2520 images belonging to 3 classes.\n",
            "Found 0 images belonging to 0 classes.\n",
            "Found 33 images belonging to 3 classes.\n",
            "Found 372 images belonging to 3 classes.\n"
          ],
          "name": "stdout"
        }
      ]
    },
    {
      "cell_type": "code",
      "metadata": {
        "id": "331a4XYL01QS"
      },
      "source": [
        "# inisiasi callback\n",
        "fp_save_weights = '/content/drive/MyDrive/belajar-ml/best_weights/my_best_model.epoch{epoch:02d}-loss{val_loss:.2f}.h5'\n",
        "\n",
        "callback = tf.keras.callbacks.EarlyStopping(monitor='val_loss',\n",
        "                                            min_delta=0,\n",
        "                                            patience=15,\n",
        "                                            verbose=0,\n",
        "                                            mode='auto',\n",
        "                                            baseline=None,\n",
        "                                            restore_best_weights=True)\n",
        "\n",
        "reduce_lr = tf.keras.callbacks.ReduceLROnPlateau(monitor='val_loss',\n",
        "                                                 factor=0.2,\n",
        "                                                 patience=3,\n",
        "                                                 verbose=1,\n",
        "                                                 min_lr=0.001)\n",
        "\n",
        "save_weights = tf.keras.callbacks.ModelCheckpoint(fp_save_weights,\n",
        "                                                  monitor='val_loss',\n",
        "                                                  verbose=1,\n",
        "                                                  save_best_only=True,\n",
        "                                                  mode='min')"
      ],
      "execution_count": null,
      "outputs": []
    },
    {
      "cell_type": "code",
      "metadata": {
        "id": "JtBd-YOr1C0u"
      },
      "source": [
        "# inisiasi arsitektur CNN dengan dropout\n",
        "modeld = tf.keras.models.Sequential([\n",
        "    tf.keras.layers.Conv2D(32, (3,3), activation='relu', input_shape=(150, 150, 3)),\n",
        "    tf.keras.layers.MaxPooling2D(2,2),\n",
        "    tf.keras.layers.Conv2D(64, (3,3), activation='relu'),\n",
        "    tf.keras.layers.MaxPooling2D(2,2),\n",
        "    tf.keras.layers.Conv2D(128, (3,3), activation='relu'),\n",
        "    tf.keras.layers.MaxPooling2D(2,2),\n",
        "    tf.keras.layers.Conv2D(128, (3,3), activation='relu'),\n",
        "    tf.keras.layers.MaxPooling2D(2,2),\n",
        "    tf.keras.layers.Flatten(),\n",
        "    tf.keras.layers.Dropout(0.5),\n",
        "    tf.keras.layers.Dense(512, activation='relu'),\n",
        "    tf.keras.layers.Dropout(0.5),\n",
        "    tf.keras.layers.Dense(3, activation='softmax')\n",
        "])\n",
        "\n",
        "# compile \n",
        "modeld.compile(loss='categorical_crossentropy',\n",
        "              optimizer='Adam',\n",
        "              metrics=['accuracy']\n",
        "             )"
      ],
      "execution_count": null,
      "outputs": []
    },
    {
      "cell_type": "code",
      "metadata": {
        "colab": {
          "base_uri": "https://localhost:8080/"
        },
        "id": "pf4wsXsY40x2",
        "outputId": "c88b5258-df0e-41fe-a637-db1594a92cbf"
      },
      "source": [
        "modeld.summary()"
      ],
      "execution_count": null,
      "outputs": [
        {
          "output_type": "stream",
          "text": [
            "Model: \"sequential_11\"\n",
            "_________________________________________________________________\n",
            "Layer (type)                 Output Shape              Param #   \n",
            "=================================================================\n",
            "conv2d_44 (Conv2D)           (None, 148, 148, 32)      896       \n",
            "_________________________________________________________________\n",
            "max_pooling2d_44 (MaxPooling (None, 74, 74, 32)        0         \n",
            "_________________________________________________________________\n",
            "conv2d_45 (Conv2D)           (None, 72, 72, 64)        18496     \n",
            "_________________________________________________________________\n",
            "max_pooling2d_45 (MaxPooling (None, 36, 36, 64)        0         \n",
            "_________________________________________________________________\n",
            "conv2d_46 (Conv2D)           (None, 34, 34, 128)       73856     \n",
            "_________________________________________________________________\n",
            "max_pooling2d_46 (MaxPooling (None, 17, 17, 128)       0         \n",
            "_________________________________________________________________\n",
            "conv2d_47 (Conv2D)           (None, 15, 15, 128)       147584    \n",
            "_________________________________________________________________\n",
            "max_pooling2d_47 (MaxPooling (None, 7, 7, 128)         0         \n",
            "_________________________________________________________________\n",
            "flatten_11 (Flatten)         (None, 6272)              0         \n",
            "_________________________________________________________________\n",
            "dropout (Dropout)            (None, 6272)              0         \n",
            "_________________________________________________________________\n",
            "dense_22 (Dense)             (None, 512)               3211776   \n",
            "_________________________________________________________________\n",
            "dropout_1 (Dropout)          (None, 512)               0         \n",
            "_________________________________________________________________\n",
            "dense_23 (Dense)             (None, 3)                 1539      \n",
            "=================================================================\n",
            "Total params: 3,454,147\n",
            "Trainable params: 3,454,147\n",
            "Non-trainable params: 0\n",
            "_________________________________________________________________\n"
          ],
          "name": "stdout"
        }
      ]
    },
    {
      "cell_type": "code",
      "metadata": {
        "colab": {
          "base_uri": "https://localhost:8080/"
        },
        "id": "S4jIy5wY1nl2",
        "outputId": "9ef21bb0-a60a-4656-8531-9b9d77b8a593"
      },
      "source": [
        "# latih model\n",
        "plotd = modeld.fit(train_generator,\n",
        "                   epochs=100,\n",
        "                   verbose=1,\n",
        "                   validation_data=test_generator,\n",
        "                   steps_per_epoch=np.ceil(total_train/batch_size), # total train = batch_size * steps \n",
        "                   validation_steps=np.ceil(total_test/batch_size), # total val = batch_size * steps\n",
        "                   callbacks=[callback, reduce_lr, save_weights],\n",
        "                  )"
      ],
      "execution_count": null,
      "outputs": [
        {
          "output_type": "stream",
          "text": [
            "Epoch 1/100\n",
            "79/79 [==============================] - 24s 293ms/step - loss: 1.0990 - accuracy: 0.3675 - val_loss: 1.0246 - val_accuracy: 0.4167\n",
            "\n",
            "Epoch 00001: val_loss improved from inf to 1.02462, saving model to /content/drive/MyDrive/belajar-ml/best_weights/my_best_model.epoch01-loss1.02.h5\n",
            "Epoch 2/100\n",
            "79/79 [==============================] - 23s 290ms/step - loss: 0.9912 - accuracy: 0.4929 - val_loss: 0.9437 - val_accuracy: 0.5457\n",
            "\n",
            "Epoch 00002: val_loss improved from 1.02462 to 0.94366, saving model to /content/drive/MyDrive/belajar-ml/best_weights/my_best_model.epoch02-loss0.94.h5\n",
            "Epoch 3/100\n",
            "79/79 [==============================] - 23s 289ms/step - loss: 0.8373 - accuracy: 0.5925 - val_loss: 0.5873 - val_accuracy: 0.7527\n",
            "\n",
            "Epoch 00003: val_loss improved from 0.94366 to 0.58728, saving model to /content/drive/MyDrive/belajar-ml/best_weights/my_best_model.epoch03-loss0.59.h5\n",
            "Epoch 4/100\n",
            "79/79 [==============================] - 23s 289ms/step - loss: 0.6180 - accuracy: 0.7353 - val_loss: 0.3370 - val_accuracy: 0.8817\n",
            "\n",
            "Epoch 00004: val_loss improved from 0.58728 to 0.33704, saving model to /content/drive/MyDrive/belajar-ml/best_weights/my_best_model.epoch04-loss0.34.h5\n",
            "Epoch 5/100\n",
            "79/79 [==============================] - 23s 290ms/step - loss: 0.5053 - accuracy: 0.8024 - val_loss: 0.5207 - val_accuracy: 0.8091\n",
            "\n",
            "Epoch 00005: val_loss did not improve from 0.33704\n",
            "Epoch 6/100\n",
            "79/79 [==============================] - 23s 286ms/step - loss: 0.4370 - accuracy: 0.8194 - val_loss: 0.2994 - val_accuracy: 0.9005\n",
            "\n",
            "Epoch 00006: val_loss improved from 0.33704 to 0.29942, saving model to /content/drive/MyDrive/belajar-ml/best_weights/my_best_model.epoch06-loss0.30.h5\n",
            "Epoch 7/100\n",
            "79/79 [==============================] - 23s 293ms/step - loss: 0.3427 - accuracy: 0.8683 - val_loss: 0.1829 - val_accuracy: 0.9489\n",
            "\n",
            "Epoch 00007: val_loss improved from 0.29942 to 0.18291, saving model to /content/drive/MyDrive/belajar-ml/best_weights/my_best_model.epoch07-loss0.18.h5\n",
            "Epoch 8/100\n",
            "79/79 [==============================] - 23s 290ms/step - loss: 0.2648 - accuracy: 0.9004 - val_loss: 0.1798 - val_accuracy: 0.9489\n",
            "\n",
            "Epoch 00008: val_loss improved from 0.18291 to 0.17977, saving model to /content/drive/MyDrive/belajar-ml/best_weights/my_best_model.epoch08-loss0.18.h5\n",
            "Epoch 9/100\n",
            "79/79 [==============================] - 23s 289ms/step - loss: 0.2519 - accuracy: 0.9119 - val_loss: 0.1447 - val_accuracy: 0.9409\n",
            "\n",
            "Epoch 00009: val_loss improved from 0.17977 to 0.14470, saving model to /content/drive/MyDrive/belajar-ml/best_weights/my_best_model.epoch09-loss0.14.h5\n",
            "Epoch 10/100\n",
            "79/79 [==============================] - 23s 290ms/step - loss: 0.2124 - accuracy: 0.9242 - val_loss: 0.3647 - val_accuracy: 0.8602\n",
            "\n",
            "Epoch 00010: val_loss did not improve from 0.14470\n",
            "Epoch 11/100\n",
            "79/79 [==============================] - 23s 286ms/step - loss: 0.2263 - accuracy: 0.9139 - val_loss: 0.2284 - val_accuracy: 0.9301\n",
            "\n",
            "Epoch 00011: val_loss did not improve from 0.14470\n",
            "Epoch 12/100\n",
            "79/79 [==============================] - 23s 288ms/step - loss: 0.2144 - accuracy: 0.9222 - val_loss: 0.2090 - val_accuracy: 0.9489\n",
            "\n",
            "Epoch 00012: val_loss did not improve from 0.14470\n",
            "Epoch 13/100\n",
            "79/79 [==============================] - 23s 287ms/step - loss: 0.1799 - accuracy: 0.9333 - val_loss: 0.1493 - val_accuracy: 0.9597\n",
            "\n",
            "Epoch 00013: val_loss did not improve from 0.14470\n",
            "Epoch 14/100\n",
            "79/79 [==============================] - 23s 288ms/step - loss: 0.1602 - accuracy: 0.9440 - val_loss: 0.1037 - val_accuracy: 0.9731\n",
            "\n",
            "Epoch 00014: val_loss improved from 0.14470 to 0.10367, saving model to /content/drive/MyDrive/belajar-ml/best_weights/my_best_model.epoch14-loss0.10.h5\n",
            "Epoch 15/100\n",
            "79/79 [==============================] - 23s 290ms/step - loss: 0.1213 - accuracy: 0.9552 - val_loss: 0.1887 - val_accuracy: 0.9516\n",
            "\n",
            "Epoch 00015: val_loss did not improve from 0.10367\n",
            "Epoch 16/100\n",
            "79/79 [==============================] - 23s 286ms/step - loss: 0.1132 - accuracy: 0.9631 - val_loss: 0.1596 - val_accuracy: 0.9597\n",
            "\n",
            "Epoch 00016: val_loss did not improve from 0.10367\n",
            "Epoch 17/100\n",
            "79/79 [==============================] - 23s 288ms/step - loss: 0.1346 - accuracy: 0.9508 - val_loss: 0.1851 - val_accuracy: 0.9543\n",
            "\n",
            "Epoch 00017: val_loss did not improve from 0.10367\n",
            "Epoch 18/100\n",
            "79/79 [==============================] - 23s 288ms/step - loss: 0.1121 - accuracy: 0.9603 - val_loss: 0.1303 - val_accuracy: 0.9677\n",
            "\n",
            "Epoch 00018: val_loss did not improve from 0.10367\n",
            "Epoch 19/100\n",
            "79/79 [==============================] - 23s 287ms/step - loss: 0.1115 - accuracy: 0.9619 - val_loss: 0.1297 - val_accuracy: 0.9570\n",
            "\n",
            "Epoch 00019: val_loss did not improve from 0.10367\n",
            "Epoch 20/100\n",
            "79/79 [==============================] - 23s 288ms/step - loss: 0.1032 - accuracy: 0.9679 - val_loss: 0.0996 - val_accuracy: 0.9651\n",
            "\n",
            "Epoch 00020: val_loss improved from 0.10367 to 0.09962, saving model to /content/drive/MyDrive/belajar-ml/best_weights/my_best_model.epoch20-loss0.10.h5\n",
            "Epoch 21/100\n",
            "79/79 [==============================] - 23s 292ms/step - loss: 0.1029 - accuracy: 0.9611 - val_loss: 0.2022 - val_accuracy: 0.9543\n",
            "\n",
            "Epoch 00021: val_loss did not improve from 0.09962\n",
            "Epoch 22/100\n",
            "79/79 [==============================] - 23s 288ms/step - loss: 0.0963 - accuracy: 0.9683 - val_loss: 0.1642 - val_accuracy: 0.9543\n",
            "\n",
            "Epoch 00022: val_loss did not improve from 0.09962\n",
            "Epoch 23/100\n",
            "79/79 [==============================] - 23s 287ms/step - loss: 0.1030 - accuracy: 0.9639 - val_loss: 0.1727 - val_accuracy: 0.9543\n",
            "\n",
            "Epoch 00023: val_loss did not improve from 0.09962\n",
            "Epoch 24/100\n",
            "79/79 [==============================] - 23s 288ms/step - loss: 0.0903 - accuracy: 0.9683 - val_loss: 0.1397 - val_accuracy: 0.9651\n",
            "\n",
            "Epoch 00024: val_loss did not improve from 0.09962\n",
            "Epoch 25/100\n",
            "79/79 [==============================] - 23s 288ms/step - loss: 0.0931 - accuracy: 0.9730 - val_loss: 0.1803 - val_accuracy: 0.9462\n",
            "\n",
            "Epoch 00025: val_loss did not improve from 0.09962\n",
            "Epoch 26/100\n",
            "79/79 [==============================] - 23s 286ms/step - loss: 0.0878 - accuracy: 0.9702 - val_loss: 0.1611 - val_accuracy: 0.9462\n",
            "\n",
            "Epoch 00026: val_loss did not improve from 0.09962\n",
            "Epoch 27/100\n",
            "79/79 [==============================] - 23s 286ms/step - loss: 0.0841 - accuracy: 0.9714 - val_loss: 0.1885 - val_accuracy: 0.9462\n",
            "\n",
            "Epoch 00027: val_loss did not improve from 0.09962\n",
            "Epoch 28/100\n",
            "79/79 [==============================] - 23s 288ms/step - loss: 0.0962 - accuracy: 0.9687 - val_loss: 0.0857 - val_accuracy: 0.9785\n",
            "\n",
            "Epoch 00028: val_loss improved from 0.09962 to 0.08571, saving model to /content/drive/MyDrive/belajar-ml/best_weights/my_best_model.epoch28-loss0.09.h5\n",
            "Epoch 29/100\n",
            "79/79 [==============================] - 23s 287ms/step - loss: 0.0777 - accuracy: 0.9694 - val_loss: 0.1777 - val_accuracy: 0.9489\n",
            "\n",
            "Epoch 00029: val_loss did not improve from 0.08571\n",
            "Epoch 30/100\n",
            "79/79 [==============================] - 23s 288ms/step - loss: 0.0800 - accuracy: 0.9706 - val_loss: 0.1688 - val_accuracy: 0.9597\n",
            "\n",
            "Epoch 00030: val_loss did not improve from 0.08571\n",
            "Epoch 31/100\n",
            "79/79 [==============================] - 23s 289ms/step - loss: 0.0775 - accuracy: 0.9714 - val_loss: 0.1436 - val_accuracy: 0.9435\n",
            "\n",
            "Epoch 00031: val_loss did not improve from 0.08571\n",
            "Epoch 32/100\n",
            "79/79 [==============================] - 23s 286ms/step - loss: 0.0775 - accuracy: 0.9722 - val_loss: 0.1757 - val_accuracy: 0.9543\n",
            "\n",
            "Epoch 00032: val_loss did not improve from 0.08571\n",
            "Epoch 33/100\n",
            "79/79 [==============================] - 23s 286ms/step - loss: 0.0614 - accuracy: 0.9782 - val_loss: 0.1711 - val_accuracy: 0.9516\n",
            "\n",
            "Epoch 00033: val_loss did not improve from 0.08571\n",
            "Epoch 34/100\n",
            "79/79 [==============================] - 23s 287ms/step - loss: 0.0819 - accuracy: 0.9722 - val_loss: 0.1333 - val_accuracy: 0.9677\n",
            "\n",
            "Epoch 00034: val_loss did not improve from 0.08571\n",
            "Epoch 35/100\n",
            "79/79 [==============================] - 23s 286ms/step - loss: 0.0819 - accuracy: 0.9726 - val_loss: 0.2110 - val_accuracy: 0.9355\n",
            "\n",
            "Epoch 00035: val_loss did not improve from 0.08571\n",
            "Epoch 36/100\n",
            "79/79 [==============================] - 23s 287ms/step - loss: 0.0828 - accuracy: 0.9726 - val_loss: 0.1045 - val_accuracy: 0.9651\n",
            "\n",
            "Epoch 00036: val_loss did not improve from 0.08571\n",
            "Epoch 37/100\n",
            "79/79 [==============================] - 23s 287ms/step - loss: 0.0623 - accuracy: 0.9798 - val_loss: 0.1409 - val_accuracy: 0.9597\n",
            "\n",
            "Epoch 00037: val_loss did not improve from 0.08571\n",
            "Epoch 38/100\n",
            "79/79 [==============================] - 23s 286ms/step - loss: 0.0769 - accuracy: 0.9750 - val_loss: 0.1218 - val_accuracy: 0.9543\n",
            "\n",
            "Epoch 00038: val_loss did not improve from 0.08571\n",
            "Epoch 39/100\n",
            "79/79 [==============================] - 23s 286ms/step - loss: 0.0607 - accuracy: 0.9813 - val_loss: 0.1040 - val_accuracy: 0.9651\n",
            "\n",
            "Epoch 00039: val_loss did not improve from 0.08571\n",
            "Epoch 40/100\n",
            "79/79 [==============================] - 23s 285ms/step - loss: 0.0452 - accuracy: 0.9837 - val_loss: 0.1267 - val_accuracy: 0.9570\n",
            "\n",
            "Epoch 00040: val_loss did not improve from 0.08571\n",
            "Epoch 41/100\n",
            "79/79 [==============================] - 23s 286ms/step - loss: 0.0749 - accuracy: 0.9742 - val_loss: 0.1827 - val_accuracy: 0.9382\n",
            "\n",
            "Epoch 00041: val_loss did not improve from 0.08571\n",
            "Epoch 42/100\n",
            "79/79 [==============================] - 23s 286ms/step - loss: 0.0761 - accuracy: 0.9766 - val_loss: 0.1598 - val_accuracy: 0.9570\n",
            "\n",
            "Epoch 00042: val_loss did not improve from 0.08571\n",
            "Epoch 43/100\n",
            "79/79 [==============================] - 23s 286ms/step - loss: 0.0675 - accuracy: 0.9758 - val_loss: 0.1240 - val_accuracy: 0.9651\n",
            "\n",
            "Epoch 00043: val_loss did not improve from 0.08571\n"
          ],
          "name": "stdout"
        }
      ]
    },
    {
      "cell_type": "code",
      "metadata": {
        "colab": {
          "base_uri": "https://localhost:8080/"
        },
        "id": "mylREWSuCIvx",
        "outputId": "52c97179-d378-4fcb-f752-6c79224db3ea"
      },
      "source": [
        "# menyimpan weight model\n",
        "modeld.save('/content/drive/MyDrive/belajar-ml/trained/rh_model_fix_20juni')\n",
        "modeld.save_weights('/content/drive/MyDrive/belajar-ml/trained/rh_model_fix_20juni_weights.h5')"
      ],
      "execution_count": null,
      "outputs": [
        {
          "output_type": "stream",
          "text": [
            "INFO:tensorflow:Assets written to: /content/drive/MyDrive/belajar-ml/trained/rh_model_fix_20juni/assets\n"
          ],
          "name": "stdout"
        }
      ]
    },
    {
      "cell_type": "code",
      "metadata": {
        "colab": {
          "base_uri": "https://localhost:8080/",
          "height": 1000
        },
        "id": "0CfcrCzW61ht",
        "outputId": "7ae33447-c34b-4b39-f870-e9116a6794a1"
      },
      "source": [
        "import pandas as pd\n",
        "\n",
        "df = pd.DataFrame(modeld.history.history)\n",
        "df"
      ],
      "execution_count": null,
      "outputs": [
        {
          "output_type": "execute_result",
          "data": {
            "text/html": [
              "<div>\n",
              "<style scoped>\n",
              "    .dataframe tbody tr th:only-of-type {\n",
              "        vertical-align: middle;\n",
              "    }\n",
              "\n",
              "    .dataframe tbody tr th {\n",
              "        vertical-align: top;\n",
              "    }\n",
              "\n",
              "    .dataframe thead th {\n",
              "        text-align: right;\n",
              "    }\n",
              "</style>\n",
              "<table border=\"1\" class=\"dataframe\">\n",
              "  <thead>\n",
              "    <tr style=\"text-align: right;\">\n",
              "      <th></th>\n",
              "      <th>loss</th>\n",
              "      <th>accuracy</th>\n",
              "      <th>val_loss</th>\n",
              "      <th>val_accuracy</th>\n",
              "      <th>lr</th>\n",
              "    </tr>\n",
              "  </thead>\n",
              "  <tbody>\n",
              "    <tr>\n",
              "      <th>0</th>\n",
              "      <td>1.098990</td>\n",
              "      <td>0.367460</td>\n",
              "      <td>1.024619</td>\n",
              "      <td>0.416667</td>\n",
              "      <td>0.001</td>\n",
              "    </tr>\n",
              "    <tr>\n",
              "      <th>1</th>\n",
              "      <td>0.991166</td>\n",
              "      <td>0.492857</td>\n",
              "      <td>0.943659</td>\n",
              "      <td>0.545699</td>\n",
              "      <td>0.001</td>\n",
              "    </tr>\n",
              "    <tr>\n",
              "      <th>2</th>\n",
              "      <td>0.837326</td>\n",
              "      <td>0.592460</td>\n",
              "      <td>0.587277</td>\n",
              "      <td>0.752688</td>\n",
              "      <td>0.001</td>\n",
              "    </tr>\n",
              "    <tr>\n",
              "      <th>3</th>\n",
              "      <td>0.618022</td>\n",
              "      <td>0.735317</td>\n",
              "      <td>0.337037</td>\n",
              "      <td>0.881720</td>\n",
              "      <td>0.001</td>\n",
              "    </tr>\n",
              "    <tr>\n",
              "      <th>4</th>\n",
              "      <td>0.505316</td>\n",
              "      <td>0.802381</td>\n",
              "      <td>0.520735</td>\n",
              "      <td>0.809140</td>\n",
              "      <td>0.001</td>\n",
              "    </tr>\n",
              "    <tr>\n",
              "      <th>5</th>\n",
              "      <td>0.437014</td>\n",
              "      <td>0.819444</td>\n",
              "      <td>0.299417</td>\n",
              "      <td>0.900538</td>\n",
              "      <td>0.001</td>\n",
              "    </tr>\n",
              "    <tr>\n",
              "      <th>6</th>\n",
              "      <td>0.342651</td>\n",
              "      <td>0.868254</td>\n",
              "      <td>0.182908</td>\n",
              "      <td>0.948925</td>\n",
              "      <td>0.001</td>\n",
              "    </tr>\n",
              "    <tr>\n",
              "      <th>7</th>\n",
              "      <td>0.264762</td>\n",
              "      <td>0.900397</td>\n",
              "      <td>0.179773</td>\n",
              "      <td>0.948925</td>\n",
              "      <td>0.001</td>\n",
              "    </tr>\n",
              "    <tr>\n",
              "      <th>8</th>\n",
              "      <td>0.251920</td>\n",
              "      <td>0.911905</td>\n",
              "      <td>0.144698</td>\n",
              "      <td>0.940860</td>\n",
              "      <td>0.001</td>\n",
              "    </tr>\n",
              "    <tr>\n",
              "      <th>9</th>\n",
              "      <td>0.212381</td>\n",
              "      <td>0.924206</td>\n",
              "      <td>0.364706</td>\n",
              "      <td>0.860215</td>\n",
              "      <td>0.001</td>\n",
              "    </tr>\n",
              "    <tr>\n",
              "      <th>10</th>\n",
              "      <td>0.226257</td>\n",
              "      <td>0.913889</td>\n",
              "      <td>0.228401</td>\n",
              "      <td>0.930108</td>\n",
              "      <td>0.001</td>\n",
              "    </tr>\n",
              "    <tr>\n",
              "      <th>11</th>\n",
              "      <td>0.214432</td>\n",
              "      <td>0.922222</td>\n",
              "      <td>0.208957</td>\n",
              "      <td>0.948925</td>\n",
              "      <td>0.001</td>\n",
              "    </tr>\n",
              "    <tr>\n",
              "      <th>12</th>\n",
              "      <td>0.179864</td>\n",
              "      <td>0.933333</td>\n",
              "      <td>0.149297</td>\n",
              "      <td>0.959677</td>\n",
              "      <td>0.001</td>\n",
              "    </tr>\n",
              "    <tr>\n",
              "      <th>13</th>\n",
              "      <td>0.160218</td>\n",
              "      <td>0.944048</td>\n",
              "      <td>0.103673</td>\n",
              "      <td>0.973118</td>\n",
              "      <td>0.001</td>\n",
              "    </tr>\n",
              "    <tr>\n",
              "      <th>14</th>\n",
              "      <td>0.121309</td>\n",
              "      <td>0.955159</td>\n",
              "      <td>0.188695</td>\n",
              "      <td>0.951613</td>\n",
              "      <td>0.001</td>\n",
              "    </tr>\n",
              "    <tr>\n",
              "      <th>15</th>\n",
              "      <td>0.113159</td>\n",
              "      <td>0.963095</td>\n",
              "      <td>0.159554</td>\n",
              "      <td>0.959677</td>\n",
              "      <td>0.001</td>\n",
              "    </tr>\n",
              "    <tr>\n",
              "      <th>16</th>\n",
              "      <td>0.134583</td>\n",
              "      <td>0.950794</td>\n",
              "      <td>0.185121</td>\n",
              "      <td>0.954301</td>\n",
              "      <td>0.001</td>\n",
              "    </tr>\n",
              "    <tr>\n",
              "      <th>17</th>\n",
              "      <td>0.112094</td>\n",
              "      <td>0.960317</td>\n",
              "      <td>0.130318</td>\n",
              "      <td>0.967742</td>\n",
              "      <td>0.001</td>\n",
              "    </tr>\n",
              "    <tr>\n",
              "      <th>18</th>\n",
              "      <td>0.111536</td>\n",
              "      <td>0.961905</td>\n",
              "      <td>0.129689</td>\n",
              "      <td>0.956989</td>\n",
              "      <td>0.001</td>\n",
              "    </tr>\n",
              "    <tr>\n",
              "      <th>19</th>\n",
              "      <td>0.103196</td>\n",
              "      <td>0.967857</td>\n",
              "      <td>0.099623</td>\n",
              "      <td>0.965054</td>\n",
              "      <td>0.001</td>\n",
              "    </tr>\n",
              "    <tr>\n",
              "      <th>20</th>\n",
              "      <td>0.102927</td>\n",
              "      <td>0.961111</td>\n",
              "      <td>0.202177</td>\n",
              "      <td>0.954301</td>\n",
              "      <td>0.001</td>\n",
              "    </tr>\n",
              "    <tr>\n",
              "      <th>21</th>\n",
              "      <td>0.096330</td>\n",
              "      <td>0.968254</td>\n",
              "      <td>0.164245</td>\n",
              "      <td>0.954301</td>\n",
              "      <td>0.001</td>\n",
              "    </tr>\n",
              "    <tr>\n",
              "      <th>22</th>\n",
              "      <td>0.103030</td>\n",
              "      <td>0.963889</td>\n",
              "      <td>0.172744</td>\n",
              "      <td>0.954301</td>\n",
              "      <td>0.001</td>\n",
              "    </tr>\n",
              "    <tr>\n",
              "      <th>23</th>\n",
              "      <td>0.090255</td>\n",
              "      <td>0.968254</td>\n",
              "      <td>0.139697</td>\n",
              "      <td>0.965054</td>\n",
              "      <td>0.001</td>\n",
              "    </tr>\n",
              "    <tr>\n",
              "      <th>24</th>\n",
              "      <td>0.093094</td>\n",
              "      <td>0.973016</td>\n",
              "      <td>0.180313</td>\n",
              "      <td>0.946237</td>\n",
              "      <td>0.001</td>\n",
              "    </tr>\n",
              "    <tr>\n",
              "      <th>25</th>\n",
              "      <td>0.087817</td>\n",
              "      <td>0.970238</td>\n",
              "      <td>0.161103</td>\n",
              "      <td>0.946237</td>\n",
              "      <td>0.001</td>\n",
              "    </tr>\n",
              "    <tr>\n",
              "      <th>26</th>\n",
              "      <td>0.084143</td>\n",
              "      <td>0.971429</td>\n",
              "      <td>0.188547</td>\n",
              "      <td>0.946237</td>\n",
              "      <td>0.001</td>\n",
              "    </tr>\n",
              "    <tr>\n",
              "      <th>27</th>\n",
              "      <td>0.096181</td>\n",
              "      <td>0.968651</td>\n",
              "      <td>0.085708</td>\n",
              "      <td>0.978495</td>\n",
              "      <td>0.001</td>\n",
              "    </tr>\n",
              "    <tr>\n",
              "      <th>28</th>\n",
              "      <td>0.077656</td>\n",
              "      <td>0.969444</td>\n",
              "      <td>0.177728</td>\n",
              "      <td>0.948925</td>\n",
              "      <td>0.001</td>\n",
              "    </tr>\n",
              "    <tr>\n",
              "      <th>29</th>\n",
              "      <td>0.080041</td>\n",
              "      <td>0.970635</td>\n",
              "      <td>0.168812</td>\n",
              "      <td>0.959677</td>\n",
              "      <td>0.001</td>\n",
              "    </tr>\n",
              "    <tr>\n",
              "      <th>30</th>\n",
              "      <td>0.077469</td>\n",
              "      <td>0.971429</td>\n",
              "      <td>0.143644</td>\n",
              "      <td>0.943548</td>\n",
              "      <td>0.001</td>\n",
              "    </tr>\n",
              "    <tr>\n",
              "      <th>31</th>\n",
              "      <td>0.077538</td>\n",
              "      <td>0.972222</td>\n",
              "      <td>0.175741</td>\n",
              "      <td>0.954301</td>\n",
              "      <td>0.001</td>\n",
              "    </tr>\n",
              "    <tr>\n",
              "      <th>32</th>\n",
              "      <td>0.061410</td>\n",
              "      <td>0.978175</td>\n",
              "      <td>0.171084</td>\n",
              "      <td>0.951613</td>\n",
              "      <td>0.001</td>\n",
              "    </tr>\n",
              "    <tr>\n",
              "      <th>33</th>\n",
              "      <td>0.081882</td>\n",
              "      <td>0.972222</td>\n",
              "      <td>0.133316</td>\n",
              "      <td>0.967742</td>\n",
              "      <td>0.001</td>\n",
              "    </tr>\n",
              "    <tr>\n",
              "      <th>34</th>\n",
              "      <td>0.081851</td>\n",
              "      <td>0.972619</td>\n",
              "      <td>0.211041</td>\n",
              "      <td>0.935484</td>\n",
              "      <td>0.001</td>\n",
              "    </tr>\n",
              "    <tr>\n",
              "      <th>35</th>\n",
              "      <td>0.082818</td>\n",
              "      <td>0.972619</td>\n",
              "      <td>0.104465</td>\n",
              "      <td>0.965054</td>\n",
              "      <td>0.001</td>\n",
              "    </tr>\n",
              "    <tr>\n",
              "      <th>36</th>\n",
              "      <td>0.062260</td>\n",
              "      <td>0.979762</td>\n",
              "      <td>0.140886</td>\n",
              "      <td>0.959677</td>\n",
              "      <td>0.001</td>\n",
              "    </tr>\n",
              "    <tr>\n",
              "      <th>37</th>\n",
              "      <td>0.076936</td>\n",
              "      <td>0.975000</td>\n",
              "      <td>0.121809</td>\n",
              "      <td>0.954301</td>\n",
              "      <td>0.001</td>\n",
              "    </tr>\n",
              "    <tr>\n",
              "      <th>38</th>\n",
              "      <td>0.060710</td>\n",
              "      <td>0.981349</td>\n",
              "      <td>0.103973</td>\n",
              "      <td>0.965054</td>\n",
              "      <td>0.001</td>\n",
              "    </tr>\n",
              "    <tr>\n",
              "      <th>39</th>\n",
              "      <td>0.045164</td>\n",
              "      <td>0.983730</td>\n",
              "      <td>0.126720</td>\n",
              "      <td>0.956989</td>\n",
              "      <td>0.001</td>\n",
              "    </tr>\n",
              "    <tr>\n",
              "      <th>40</th>\n",
              "      <td>0.074912</td>\n",
              "      <td>0.974206</td>\n",
              "      <td>0.182718</td>\n",
              "      <td>0.938172</td>\n",
              "      <td>0.001</td>\n",
              "    </tr>\n",
              "    <tr>\n",
              "      <th>41</th>\n",
              "      <td>0.076096</td>\n",
              "      <td>0.976587</td>\n",
              "      <td>0.159775</td>\n",
              "      <td>0.956989</td>\n",
              "      <td>0.001</td>\n",
              "    </tr>\n",
              "    <tr>\n",
              "      <th>42</th>\n",
              "      <td>0.067488</td>\n",
              "      <td>0.975794</td>\n",
              "      <td>0.123991</td>\n",
              "      <td>0.965054</td>\n",
              "      <td>0.001</td>\n",
              "    </tr>\n",
              "  </tbody>\n",
              "</table>\n",
              "</div>"
            ],
            "text/plain": [
              "        loss  accuracy  val_loss  val_accuracy     lr\n",
              "0   1.098990  0.367460  1.024619      0.416667  0.001\n",
              "1   0.991166  0.492857  0.943659      0.545699  0.001\n",
              "2   0.837326  0.592460  0.587277      0.752688  0.001\n",
              "3   0.618022  0.735317  0.337037      0.881720  0.001\n",
              "4   0.505316  0.802381  0.520735      0.809140  0.001\n",
              "5   0.437014  0.819444  0.299417      0.900538  0.001\n",
              "6   0.342651  0.868254  0.182908      0.948925  0.001\n",
              "7   0.264762  0.900397  0.179773      0.948925  0.001\n",
              "8   0.251920  0.911905  0.144698      0.940860  0.001\n",
              "9   0.212381  0.924206  0.364706      0.860215  0.001\n",
              "10  0.226257  0.913889  0.228401      0.930108  0.001\n",
              "11  0.214432  0.922222  0.208957      0.948925  0.001\n",
              "12  0.179864  0.933333  0.149297      0.959677  0.001\n",
              "13  0.160218  0.944048  0.103673      0.973118  0.001\n",
              "14  0.121309  0.955159  0.188695      0.951613  0.001\n",
              "15  0.113159  0.963095  0.159554      0.959677  0.001\n",
              "16  0.134583  0.950794  0.185121      0.954301  0.001\n",
              "17  0.112094  0.960317  0.130318      0.967742  0.001\n",
              "18  0.111536  0.961905  0.129689      0.956989  0.001\n",
              "19  0.103196  0.967857  0.099623      0.965054  0.001\n",
              "20  0.102927  0.961111  0.202177      0.954301  0.001\n",
              "21  0.096330  0.968254  0.164245      0.954301  0.001\n",
              "22  0.103030  0.963889  0.172744      0.954301  0.001\n",
              "23  0.090255  0.968254  0.139697      0.965054  0.001\n",
              "24  0.093094  0.973016  0.180313      0.946237  0.001\n",
              "25  0.087817  0.970238  0.161103      0.946237  0.001\n",
              "26  0.084143  0.971429  0.188547      0.946237  0.001\n",
              "27  0.096181  0.968651  0.085708      0.978495  0.001\n",
              "28  0.077656  0.969444  0.177728      0.948925  0.001\n",
              "29  0.080041  0.970635  0.168812      0.959677  0.001\n",
              "30  0.077469  0.971429  0.143644      0.943548  0.001\n",
              "31  0.077538  0.972222  0.175741      0.954301  0.001\n",
              "32  0.061410  0.978175  0.171084      0.951613  0.001\n",
              "33  0.081882  0.972222  0.133316      0.967742  0.001\n",
              "34  0.081851  0.972619  0.211041      0.935484  0.001\n",
              "35  0.082818  0.972619  0.104465      0.965054  0.001\n",
              "36  0.062260  0.979762  0.140886      0.959677  0.001\n",
              "37  0.076936  0.975000  0.121809      0.954301  0.001\n",
              "38  0.060710  0.981349  0.103973      0.965054  0.001\n",
              "39  0.045164  0.983730  0.126720      0.956989  0.001\n",
              "40  0.074912  0.974206  0.182718      0.938172  0.001\n",
              "41  0.076096  0.976587  0.159775      0.956989  0.001\n",
              "42  0.067488  0.975794  0.123991      0.965054  0.001"
            ]
          },
          "metadata": {
            "tags": []
          },
          "execution_count": 80
        }
      ]
    },
    {
      "cell_type": "code",
      "metadata": {
        "colab": {
          "base_uri": "https://localhost:8080/",
          "height": 367
        },
        "id": "yRgSJzvv7zD_",
        "outputId": "ddf1cfa2-93eb-4def-b452-0d9899a3fd32"
      },
      "source": [
        "fig, axes = plt.subplots(1, 2)\n",
        "\n",
        "df.plot(kind='line', y='loss', label='train_loss', ax=axes[0], figsize=(17,5))\n",
        "df.plot(kind='line', y='val_loss', ax=axes[0])\n",
        "df.plot(kind='line', y='accuracy', label='train_accuracy', ax=axes[1])\n",
        "df.plot(kind='line', y='val_accuracy', ax=axes[1])\n",
        "axes[0].set_title('Model Loss')\n",
        "axes[0].set_xlabel('Epochs')\n",
        "axes[0].set_ylabel('Loss')\n",
        "axes[1].set_title('Model Accuracy')\n",
        "axes[1].set_xlabel('Epochs')\n",
        "axes[1].set_ylabel('Accuracy')"
      ],
      "execution_count": null,
      "outputs": [
        {
          "output_type": "execute_result",
          "data": {
            "text/plain": [
              "Text(0, 0.5, 'Accuracy')"
            ]
          },
          "metadata": {
            "tags": []
          },
          "execution_count": 81
        },
        {
          "output_type": "display_data",
          "data": {
            "image/png": "[encoded data removed]",
            "text/plain": [
              "<Figure size 1224x360 with 2 Axes>"
            ]
          },
          "metadata": {
            "tags": [],
            "needs_background": "light"
          }
        }
      ]
    },
    {
      "cell_type": "code",
      "metadata": {
        "colab": {
          "base_uri": "https://localhost:8080/"
        },
        "id": "ldRYc5Yp6_HS",
        "outputId": "f3833d27-74d7-4471-ad9e-aee46593e6d3"
      },
      "source": [
        "test_generator.class_indices"
      ],
      "execution_count": null,
      "outputs": [
        {
          "output_type": "execute_result",
          "data": {
            "text/plain": [
              "{'paper': 0, 'rock': 1, 'scissors': 2}"
            ]
          },
          "metadata": {
            "tags": []
          },
          "execution_count": 60
        }
      ]
    },
    {
      "cell_type": "code",
      "metadata": {
        "id": "EzG0iI86HzDs"
      },
      "source": [
        "# fungsi prediksi\n",
        "\n",
        "def prediksi(filepath):\n",
        "  img = image.load_img(filepath, target_size=(150,150))\n",
        "  x = image.img_to_array(img)\n",
        "  x = np.expand_dims(x, axis=0)\n",
        "\n",
        "  images = np.vstack([x])\n",
        "  classes = modeld.predict(images)\n",
        "\n",
        "  if classes[0][0] == 1:\n",
        "    predicted = 'Predicted as Paper'\n",
        "  elif classes[0][1] == 1:\n",
        "    predicted = 'Predicted as Rock'\n",
        "  elif classes[0][2] == 1:\n",
        "    predicted = 'Predicted as Scissors'\n",
        "  \n",
        "  return predicted"
      ],
      "execution_count": null,
      "outputs": []
    },
    {
      "cell_type": "code",
      "metadata": {
        "colab": {
          "base_uri": "https://localhost:8080/"
        },
        "id": "x9abqFQQJiBy",
        "outputId": "db693e37-dc83-4b53-b01d-f01b1ba064b1"
      },
      "source": [
        "test = os.listdir(validation_dir)\n",
        "len(test)\n",
        "\n",
        "\n",
        "\n",
        "\n"
      ],
      "execution_count": null,
      "outputs": [
        {
          "output_type": "execute_result",
          "data": {
            "text/plain": [
              "33"
            ]
          },
          "metadata": {
            "tags": []
          },
          "execution_count": 84
        }
      ]
    },
    {
      "cell_type": "code",
      "metadata": {
        "colab": {
          "base_uri": "https://localhost:8080/"
        },
        "id": "RGcoPn-7NvMK",
        "outputId": "bd3f44c9-7f4b-4a9d-91b1-1bf0f273a2af"
      },
      "source": [
        "test"
      ],
      "execution_count": null,
      "outputs": [
        {
          "output_type": "execute_result",
          "data": {
            "text/plain": [
              "['paper-hires1.png',\n",
              " 'paper1.png',\n",
              " 'paper7.png',\n",
              " 'paper8.png',\n",
              " 'scissors4.png',\n",
              " 'scissors3.png',\n",
              " 'rock4.png',\n",
              " 'paper4.png',\n",
              " 'rock7.png',\n",
              " 'rock5.png',\n",
              " 'scissors7.png',\n",
              " 'paper6.png',\n",
              " 'rock-hires2.png',\n",
              " 'scissors8.png',\n",
              " 'rock3.png',\n",
              " 'scissors-hires1.png',\n",
              " 'rock6.png',\n",
              " 'rock8.png',\n",
              " 'rock2.png',\n",
              " 'rock1.png',\n",
              " 'paper3.png',\n",
              " 'paper2.png',\n",
              " 'rock9.png',\n",
              " 'scissors6.png',\n",
              " 'scissors2.png',\n",
              " 'rock-hires1.png',\n",
              " 'scissors5.png',\n",
              " 'paper9.png',\n",
              " 'paper5.png',\n",
              " 'scissors-hires2.png',\n",
              " 'scissors1.png',\n",
              " 'paper-hires2.png',\n",
              " 'scissors9.png']"
            ]
          },
          "metadata": {
            "tags": []
          },
          "execution_count": 71
        }
      ]
    },
    {
      "cell_type": "code",
      "metadata": {
        "id": "98ekYEj1Luit"
      },
      "source": [
        "hasil_prediksi = list()\n",
        "\n",
        "for i in test:\n",
        "  filepath = os.path.join(validation_dir, i)\n",
        "  prediksii = prediksi(filepath)\n",
        "  hasil_prediksi.append(prediksii)\n"
      ],
      "execution_count": null,
      "outputs": []
    },
    {
      "cell_type": "code",
      "metadata": {
        "colab": {
          "base_uri": "https://localhost:8080/",
          "height": 1000
        },
        "id": "c6sIhPHeURiI",
        "outputId": "8f25c48f-519d-4f3a-bba0-3cab4dc7f662"
      },
      "source": [
        "test_akhir = pd.DataFrame(list(zip(test, hasil_prediksi)), columns=['Filename', 'Predictions'])\n",
        "test_akhir"
      ],
      "execution_count": null,
      "outputs": [
        {
          "output_type": "execute_result",
          "data": {
            "text/html": [
              "<div>\n",
              "<style scoped>\n",
              "    .dataframe tbody tr th:only-of-type {\n",
              "        vertical-align: middle;\n",
              "    }\n",
              "\n",
              "    .dataframe tbody tr th {\n",
              "        vertical-align: top;\n",
              "    }\n",
              "\n",
              "    .dataframe thead th {\n",
              "        text-align: right;\n",
              "    }\n",
              "</style>\n",
              "<table border=\"1\" class=\"dataframe\">\n",
              "  <thead>\n",
              "    <tr style=\"text-align: right;\">\n",
              "      <th></th>\n",
              "      <th>Filename</th>\n",
              "      <th>Predictions</th>\n",
              "    </tr>\n",
              "  </thead>\n",
              "  <tbody>\n",
              "    <tr>\n",
              "      <th>0</th>\n",
              "      <td>paper-hires1.png</td>\n",
              "      <td>Predicted as Paper</td>\n",
              "    </tr>\n",
              "    <tr>\n",
              "      <th>1</th>\n",
              "      <td>paper-hires2.png</td>\n",
              "      <td>Predicted as Paper</td>\n",
              "    </tr>\n",
              "    <tr>\n",
              "      <th>2</th>\n",
              "      <td>paper1.png</td>\n",
              "      <td>Predicted as Paper</td>\n",
              "    </tr>\n",
              "    <tr>\n",
              "      <th>3</th>\n",
              "      <td>paper2.png</td>\n",
              "      <td>Predicted as Paper</td>\n",
              "    </tr>\n",
              "    <tr>\n",
              "      <th>4</th>\n",
              "      <td>paper3.png</td>\n",
              "      <td>Predicted as Paper</td>\n",
              "    </tr>\n",
              "    <tr>\n",
              "      <th>5</th>\n",
              "      <td>paper4.png</td>\n",
              "      <td>Predicted as Paper</td>\n",
              "    </tr>\n",
              "    <tr>\n",
              "      <th>6</th>\n",
              "      <td>paper5.png</td>\n",
              "      <td>Predicted as Paper</td>\n",
              "    </tr>\n",
              "    <tr>\n",
              "      <th>7</th>\n",
              "      <td>paper6.png</td>\n",
              "      <td>Predicted as Paper</td>\n",
              "    </tr>\n",
              "    <tr>\n",
              "      <th>8</th>\n",
              "      <td>paper7.png</td>\n",
              "      <td>Predicted as Paper</td>\n",
              "    </tr>\n",
              "    <tr>\n",
              "      <th>9</th>\n",
              "      <td>paper8.png</td>\n",
              "      <td>Predicted as Paper</td>\n",
              "    </tr>\n",
              "    <tr>\n",
              "      <th>10</th>\n",
              "      <td>paper9.png</td>\n",
              "      <td>Predicted as Paper</td>\n",
              "    </tr>\n",
              "    <tr>\n",
              "      <th>11</th>\n",
              "      <td>rock-hires1.png</td>\n",
              "      <td>Predicted as Rock</td>\n",
              "    </tr>\n",
              "    <tr>\n",
              "      <th>12</th>\n",
              "      <td>rock-hires2.png</td>\n",
              "      <td>Predicted as Rock</td>\n",
              "    </tr>\n",
              "    <tr>\n",
              "      <th>13</th>\n",
              "      <td>rock1.png</td>\n",
              "      <td>Predicted as Rock</td>\n",
              "    </tr>\n",
              "    <tr>\n",
              "      <th>14</th>\n",
              "      <td>rock2.png</td>\n",
              "      <td>Predicted as Rock</td>\n",
              "    </tr>\n",
              "    <tr>\n",
              "      <th>15</th>\n",
              "      <td>rock3.png</td>\n",
              "      <td>Predicted as Rock</td>\n",
              "    </tr>\n",
              "    <tr>\n",
              "      <th>16</th>\n",
              "      <td>rock4.png</td>\n",
              "      <td>Predicted as Rock</td>\n",
              "    </tr>\n",
              "    <tr>\n",
              "      <th>17</th>\n",
              "      <td>rock5.png</td>\n",
              "      <td>Predicted as Rock</td>\n",
              "    </tr>\n",
              "    <tr>\n",
              "      <th>18</th>\n",
              "      <td>rock6.png</td>\n",
              "      <td>Predicted as Rock</td>\n",
              "    </tr>\n",
              "    <tr>\n",
              "      <th>19</th>\n",
              "      <td>rock7.png</td>\n",
              "      <td>Predicted as Rock</td>\n",
              "    </tr>\n",
              "    <tr>\n",
              "      <th>20</th>\n",
              "      <td>rock8.png</td>\n",
              "      <td>Predicted as Rock</td>\n",
              "    </tr>\n",
              "    <tr>\n",
              "      <th>21</th>\n",
              "      <td>rock9.png</td>\n",
              "      <td>Predicted as Rock</td>\n",
              "    </tr>\n",
              "    <tr>\n",
              "      <th>22</th>\n",
              "      <td>scissors-hires1.png</td>\n",
              "      <td>Predicted as Scissors</td>\n",
              "    </tr>\n",
              "    <tr>\n",
              "      <th>23</th>\n",
              "      <td>scissors-hires2.png</td>\n",
              "      <td>Predicted as Scissors</td>\n",
              "    </tr>\n",
              "    <tr>\n",
              "      <th>24</th>\n",
              "      <td>scissors1.png</td>\n",
              "      <td>Predicted as Scissors</td>\n",
              "    </tr>\n",
              "    <tr>\n",
              "      <th>25</th>\n",
              "      <td>scissors2.png</td>\n",
              "      <td>Predicted as Scissors</td>\n",
              "    </tr>\n",
              "    <tr>\n",
              "      <th>26</th>\n",
              "      <td>scissors3.png</td>\n",
              "      <td>Predicted as Scissors</td>\n",
              "    </tr>\n",
              "    <tr>\n",
              "      <th>27</th>\n",
              "      <td>scissors4.png</td>\n",
              "      <td>Predicted as Scissors</td>\n",
              "    </tr>\n",
              "    <tr>\n",
              "      <th>28</th>\n",
              "      <td>scissors5.png</td>\n",
              "      <td>Predicted as Scissors</td>\n",
              "    </tr>\n",
              "    <tr>\n",
              "      <th>29</th>\n",
              "      <td>scissors6.png</td>\n",
              "      <td>Predicted as Scissors</td>\n",
              "    </tr>\n",
              "    <tr>\n",
              "      <th>30</th>\n",
              "      <td>scissors7.png</td>\n",
              "      <td>Predicted as Scissors</td>\n",
              "    </tr>\n",
              "    <tr>\n",
              "      <th>31</th>\n",
              "      <td>scissors8.png</td>\n",
              "      <td>Predicted as Scissors</td>\n",
              "    </tr>\n",
              "    <tr>\n",
              "      <th>32</th>\n",
              "      <td>scissors9.png</td>\n",
              "      <td>Predicted as Scissors</td>\n",
              "    </tr>\n",
              "  </tbody>\n",
              "</table>\n",
              "</div>"
            ],
            "text/plain": [
              "               Filename            Predictions\n",
              "0      paper-hires1.png     Predicted as Paper\n",
              "1      paper-hires2.png     Predicted as Paper\n",
              "2            paper1.png     Predicted as Paper\n",
              "3            paper2.png     Predicted as Paper\n",
              "4            paper3.png     Predicted as Paper\n",
              "5            paper4.png     Predicted as Paper\n",
              "6            paper5.png     Predicted as Paper\n",
              "7            paper6.png     Predicted as Paper\n",
              "8            paper7.png     Predicted as Paper\n",
              "9            paper8.png     Predicted as Paper\n",
              "10           paper9.png     Predicted as Paper\n",
              "11      rock-hires1.png      Predicted as Rock\n",
              "12      rock-hires2.png      Predicted as Rock\n",
              "13            rock1.png      Predicted as Rock\n",
              "14            rock2.png      Predicted as Rock\n",
              "15            rock3.png      Predicted as Rock\n",
              "16            rock4.png      Predicted as Rock\n",
              "17            rock5.png      Predicted as Rock\n",
              "18            rock6.png      Predicted as Rock\n",
              "19            rock7.png      Predicted as Rock\n",
              "20            rock8.png      Predicted as Rock\n",
              "21            rock9.png      Predicted as Rock\n",
              "22  scissors-hires1.png  Predicted as Scissors\n",
              "23  scissors-hires2.png  Predicted as Scissors\n",
              "24        scissors1.png  Predicted as Scissors\n",
              "25        scissors2.png  Predicted as Scissors\n",
              "26        scissors3.png  Predicted as Scissors\n",
              "27        scissors4.png  Predicted as Scissors\n",
              "28        scissors5.png  Predicted as Scissors\n",
              "29        scissors6.png  Predicted as Scissors\n",
              "30        scissors7.png  Predicted as Scissors\n",
              "31        scissors8.png  Predicted as Scissors\n",
              "32        scissors9.png  Predicted as Scissors"
            ]
          },
          "metadata": {
            "tags": []
          },
          "execution_count": 86
        }
      ]
    },
    {
      "cell_type": "code",
      "metadata": {
        "colab": {
          "base_uri": "https://localhost:8080/"
        },
        "id": "l7INn2fyXlI6",
        "outputId": "8752def9-17bb-42c8-dd6a-02d56d11ac1f"
      },
      "source": [
        "test_foto = os.listdir('/content/drive/MyDrive/belajar-ml/Rock-Paper-Scissors/test_foto')\n",
        "test_foto"
      ],
      "execution_count": null,
      "outputs": [
        {
          "output_type": "execute_result",
          "data": {
            "text/plain": [
              "['paper.jpeg',\n",
              " 'scissors-lefthand.jpeg',\n",
              " 'scissors.jpg',\n",
              " 'scissors.jpeg',\n",
              " 'rock3.jpeg',\n",
              " 'rock2.jpg',\n",
              " 'rock.jpeg',\n",
              " 'paper-lefthand.jpg']"
            ]
          },
          "metadata": {
            "tags": []
          },
          "execution_count": 89
        }
      ]
    },
    {
      "cell_type": "code",
      "metadata": {
        "colab": {
          "base_uri": "https://localhost:8080/",
          "height": 297
        },
        "id": "ExVui3USEDLx",
        "outputId": "1f42d083-3a0c-42c8-b565-5f03d740f66b"
      },
      "source": [
        "prediksi_foto = list()\n",
        "\n",
        "for i in test_foto:\n",
        "  filepath = os.path.join('/content/drive/MyDrive/belajar-ml/Rock-Paper-Scissors/test_foto', i)\n",
        "  prediksii = prediksi(filepath)\n",
        "  prediksi_foto.append(prediksii)\n",
        "\n",
        "pd_test_foto = pd.DataFrame(list(zip(test_foto, prediksi_foto)), columns=['Filename', 'Predictions'])\n",
        "pd_test_foto"
      ],
      "execution_count": null,
      "outputs": [
        {
          "output_type": "execute_result",
          "data": {
            "text/html": [
              "<div>\n",
              "<style scoped>\n",
              "    .dataframe tbody tr th:only-of-type {\n",
              "        vertical-align: middle;\n",
              "    }\n",
              "\n",
              "    .dataframe tbody tr th {\n",
              "        vertical-align: top;\n",
              "    }\n",
              "\n",
              "    .dataframe thead th {\n",
              "        text-align: right;\n",
              "    }\n",
              "</style>\n",
              "<table border=\"1\" class=\"dataframe\">\n",
              "  <thead>\n",
              "    <tr style=\"text-align: right;\">\n",
              "      <th></th>\n",
              "      <th>Filename</th>\n",
              "      <th>Predictions</th>\n",
              "    </tr>\n",
              "  </thead>\n",
              "  <tbody>\n",
              "    <tr>\n",
              "      <th>0</th>\n",
              "      <td>paper.jpeg</td>\n",
              "      <td>Predicted as Paper</td>\n",
              "    </tr>\n",
              "    <tr>\n",
              "      <th>1</th>\n",
              "      <td>scissors-lefthand.jpeg</td>\n",
              "      <td>Predicted as Scissors</td>\n",
              "    </tr>\n",
              "    <tr>\n",
              "      <th>2</th>\n",
              "      <td>scissors.jpg</td>\n",
              "      <td>Predicted as Scissors</td>\n",
              "    </tr>\n",
              "    <tr>\n",
              "      <th>3</th>\n",
              "      <td>scissors.jpeg</td>\n",
              "      <td>Predicted as Scissors</td>\n",
              "    </tr>\n",
              "    <tr>\n",
              "      <th>4</th>\n",
              "      <td>rock3.jpeg</td>\n",
              "      <td>Predicted as Rock</td>\n",
              "    </tr>\n",
              "    <tr>\n",
              "      <th>5</th>\n",
              "      <td>rock2.jpg</td>\n",
              "      <td>Predicted as Rock</td>\n",
              "    </tr>\n",
              "    <tr>\n",
              "      <th>6</th>\n",
              "      <td>rock.jpeg</td>\n",
              "      <td>Predicted as Rock</td>\n",
              "    </tr>\n",
              "    <tr>\n",
              "      <th>7</th>\n",
              "      <td>paper-lefthand.jpg</td>\n",
              "      <td>Predicted as Paper</td>\n",
              "    </tr>\n",
              "  </tbody>\n",
              "</table>\n",
              "</div>"
            ],
            "text/plain": [
              "                 Filename            Predictions\n",
              "0              paper.jpeg     Predicted as Paper\n",
              "1  scissors-lefthand.jpeg  Predicted as Scissors\n",
              "2            scissors.jpg  Predicted as Scissors\n",
              "3           scissors.jpeg  Predicted as Scissors\n",
              "4              rock3.jpeg      Predicted as Rock\n",
              "5               rock2.jpg      Predicted as Rock\n",
              "6               rock.jpeg      Predicted as Rock\n",
              "7      paper-lefthand.jpg     Predicted as Paper"
            ]
          },
          "metadata": {
            "tags": []
          },
          "execution_count": 91
        }
      ]
    },
    {
      "cell_type": "code",
      "metadata": {
        "colab": {
          "base_uri": "https://localhost:8080/",
          "height": 197
        },
        "id": "5Vl8AVj_E-yz",
        "outputId": "36e84866-c856-43ac-ec5d-2005de183488"
      },
      "source": [
        "plot_ke = 1\n",
        "pred = 0\n",
        "plt.figure(figsize=(20,5))\n",
        "for i in test_foto:\n",
        "  filepath = os.path.join('/content/drive/MyDrive/belajar-ml/Rock-Paper-Scissors/test_foto', i)\n",
        "  foto = image.load_img(filepath, target_size=(150,150))\n",
        "  plt.subplot(1, 8, plot_ke)\n",
        "  plt.imshow(foto)\n",
        "  plt.title(i)\n",
        "  plt.xlabel(pd_test_foto['Predictions'][pred])\n",
        "  plot_ke+=1\n",
        "  pred+=1\n",
        "\n"
      ],
      "execution_count": null,
      "outputs": [
        {
          "output_type": "display_data",
          "data": {
            "image/png": "[encoded data removed]",
            "text/plain": [
              "<Figure size 1440x360 with 8 Axes>"
            ]
          },
          "metadata": {
            "tags": [],
            "needs_background": "light"
          }
        }
      ]
    },
    {
      "cell_type": "code",
      "metadata": {
        "colab": {
          "base_uri": "https://localhost:8080/"
        },
        "id": "vEowfvUgcLkC",
        "outputId": "386827c2-e34b-4e4a-8872-edbe100ba9e3"
      },
      "source": [
        "from sklearn.metrics import classification_report\n",
        "\n",
        "vall = val_generator.filenames\n",
        "n_vall = len(vall)\n",
        "\n",
        "Y_pred = modeld.predict_generator(val_generator, steps = n_vall)\n",
        "y_pred = np.argmax(Y_pred, axis=1)\n",
        "\n",
        "print(classification_report(val_generator.classes, y_pred))"
      ],
      "execution_count": null,
      "outputs": [
        {
          "output_type": "stream",
          "text": [
            "/usr/local/lib/python3.7/dist-packages/tensorflow/python/keras/engine/training.py:2001: UserWarning: `Model.predict_generator` is deprecated and will be removed in a future version. Please use `Model.predict`, which supports generators.\n",
            "  warnings.warn('`Model.predict_generator` is deprecated and '\n"
          ],
          "name": "stderr"
        },
        {
          "output_type": "stream",
          "text": [
            "WARNING:tensorflow:Your input ran out of data; interrupting training. Make sure that your dataset or generator can generate at least `steps_per_epoch * epochs` batches (in this case, 33 batches). You may need to use the repeat() function when building your dataset.\n",
            "              precision    recall  f1-score   support\n",
            "\n",
            "           0       1.00      1.00      1.00        11\n",
            "           1       1.00      1.00      1.00        11\n",
            "           2       1.00      1.00      1.00        11\n",
            "\n",
            "    accuracy                           1.00        33\n",
            "   macro avg       1.00      1.00      1.00        33\n",
            "weighted avg       1.00      1.00      1.00        33\n",
            "\n"
          ],
          "name": "stdout"
        }
      ]
    }
  ]
}